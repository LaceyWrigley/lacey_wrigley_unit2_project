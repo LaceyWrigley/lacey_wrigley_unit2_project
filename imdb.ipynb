{
 "cells": [
  {
   "cell_type": "markdown",
   "metadata": {},
   "source": [
    "<img src=\"http://imgur.com/1ZcRyrc.png\" style=\"float: left; margin: 20px; height: 55px\">\n",
    "\n",
    "# Project 2: Analyzing IMDb Data\n",
    "\n",
    "_Author: Kevin Markham (DC)_\n",
    "\n",
    "---"
   ]
  },
  {
   "cell_type": "markdown",
   "metadata": {},
   "source": [
    "For project two, you will complete a series of exercises exploring movie rating data from IMDb.\n",
    "\n",
    "For these exercises, you will be conducting basic exploratory data analysis on IMDB's movie data, looking to answer such questions as:\n",
    "\n",
    "What is the average rating per genre?\n",
    "How many different actors are in a movie?\n",
    "\n",
    "This process will help you practice your data analysis skills while becoming comfortable with Pandas."
   ]
  },
  {
   "cell_type": "markdown",
   "metadata": {},
   "source": [
    "## Basic level"
   ]
  },
  {
   "cell_type": "code",
   "execution_count": 1,
   "metadata": {},
   "outputs": [],
   "source": [
    "import pandas as pd\n",
    "import matplotlib.pyplot as plt\n",
    "import seaborn as sns\n",
    "\n",
    "plt.style.use('fivethirtyeight')\n",
    "\n",
    "%matplotlib inline"
   ]
  },
  {
   "cell_type": "markdown",
   "metadata": {},
   "source": [
    "#### Read in 'imdb_1000.csv' and store it in a DataFrame named movies."
   ]
  },
  {
   "cell_type": "code",
   "execution_count": 2,
   "metadata": {},
   "outputs": [
    {
     "data": {
      "text/html": [
       "<div>\n",
       "<style scoped>\n",
       "    .dataframe tbody tr th:only-of-type {\n",
       "        vertical-align: middle;\n",
       "    }\n",
       "\n",
       "    .dataframe tbody tr th {\n",
       "        vertical-align: top;\n",
       "    }\n",
       "\n",
       "    .dataframe thead th {\n",
       "        text-align: right;\n",
       "    }\n",
       "</style>\n",
       "<table border=\"1\" class=\"dataframe\">\n",
       "  <thead>\n",
       "    <tr style=\"text-align: right;\">\n",
       "      <th></th>\n",
       "      <th>star_rating</th>\n",
       "      <th>title</th>\n",
       "      <th>content_rating</th>\n",
       "      <th>genre</th>\n",
       "      <th>duration</th>\n",
       "      <th>actors_list</th>\n",
       "    </tr>\n",
       "  </thead>\n",
       "  <tbody>\n",
       "    <tr>\n",
       "      <th>0</th>\n",
       "      <td>9.3</td>\n",
       "      <td>The Shawshank Redemption</td>\n",
       "      <td>R</td>\n",
       "      <td>Crime</td>\n",
       "      <td>142</td>\n",
       "      <td>[u'Tim Robbins', u'Morgan Freeman', u'Bob Gunt...</td>\n",
       "    </tr>\n",
       "    <tr>\n",
       "      <th>1</th>\n",
       "      <td>9.2</td>\n",
       "      <td>The Godfather</td>\n",
       "      <td>R</td>\n",
       "      <td>Crime</td>\n",
       "      <td>175</td>\n",
       "      <td>[u'Marlon Brando', u'Al Pacino', u'James Caan']</td>\n",
       "    </tr>\n",
       "    <tr>\n",
       "      <th>2</th>\n",
       "      <td>9.1</td>\n",
       "      <td>The Godfather: Part II</td>\n",
       "      <td>R</td>\n",
       "      <td>Crime</td>\n",
       "      <td>200</td>\n",
       "      <td>[u'Al Pacino', u'Robert De Niro', u'Robert Duv...</td>\n",
       "    </tr>\n",
       "    <tr>\n",
       "      <th>3</th>\n",
       "      <td>9.0</td>\n",
       "      <td>The Dark Knight</td>\n",
       "      <td>PG-13</td>\n",
       "      <td>Action</td>\n",
       "      <td>152</td>\n",
       "      <td>[u'Christian Bale', u'Heath Ledger', u'Aaron E...</td>\n",
       "    </tr>\n",
       "    <tr>\n",
       "      <th>4</th>\n",
       "      <td>8.9</td>\n",
       "      <td>Pulp Fiction</td>\n",
       "      <td>R</td>\n",
       "      <td>Crime</td>\n",
       "      <td>154</td>\n",
       "      <td>[u'John Travolta', u'Uma Thurman', u'Samuel L....</td>\n",
       "    </tr>\n",
       "  </tbody>\n",
       "</table>\n",
       "</div>"
      ],
      "text/plain": [
       "   star_rating                     title content_rating   genre  duration  \\\n",
       "0          9.3  The Shawshank Redemption              R   Crime       142   \n",
       "1          9.2             The Godfather              R   Crime       175   \n",
       "2          9.1    The Godfather: Part II              R   Crime       200   \n",
       "3          9.0           The Dark Knight          PG-13  Action       152   \n",
       "4          8.9              Pulp Fiction              R   Crime       154   \n",
       "\n",
       "                                         actors_list  \n",
       "0  [u'Tim Robbins', u'Morgan Freeman', u'Bob Gunt...  \n",
       "1    [u'Marlon Brando', u'Al Pacino', u'James Caan']  \n",
       "2  [u'Al Pacino', u'Robert De Niro', u'Robert Duv...  \n",
       "3  [u'Christian Bale', u'Heath Ledger', u'Aaron E...  \n",
       "4  [u'John Travolta', u'Uma Thurman', u'Samuel L....  "
      ]
     },
     "execution_count": 2,
     "metadata": {},
     "output_type": "execute_result"
    }
   ],
   "source": [
    "movies = pd.read_csv('./data/imdb_1000.csv')\n",
    "\n",
    "movies.head()"
   ]
  },
  {
   "cell_type": "markdown",
   "metadata": {},
   "source": [
    "#### Check the number of rows and columns."
   ]
  },
  {
   "cell_type": "code",
   "execution_count": 3,
   "metadata": {
    "collapsed": true
   },
   "outputs": [
    {
     "data": {
      "text/plain": [
       "(979, 6)"
      ]
     },
     "execution_count": 3,
     "metadata": {},
     "output_type": "execute_result"
    }
   ],
   "source": [
    "# Answer:\n",
    "movies.shape"
   ]
  },
  {
   "cell_type": "markdown",
   "metadata": {},
   "source": [
    "#### Check the data type of each column."
   ]
  },
  {
   "cell_type": "code",
   "execution_count": 4,
   "metadata": {
    "collapsed": true
   },
   "outputs": [
    {
     "data": {
      "text/plain": [
       "star_rating       float64\n",
       "title              object\n",
       "content_rating     object\n",
       "genre              object\n",
       "duration            int64\n",
       "actors_list        object\n",
       "dtype: object"
      ]
     },
     "execution_count": 4,
     "metadata": {},
     "output_type": "execute_result"
    }
   ],
   "source": [
    "# Answer:\n",
    "movies.dtypes"
   ]
  },
  {
   "cell_type": "markdown",
   "metadata": {},
   "source": [
    "#### Calculate the average movie duration."
   ]
  },
  {
   "cell_type": "code",
   "execution_count": 5,
   "metadata": {
    "collapsed": true
   },
   "outputs": [
    {
     "data": {
      "text/plain": [
       "120.97957099080695"
      ]
     },
     "execution_count": 5,
     "metadata": {},
     "output_type": "execute_result"
    }
   ],
   "source": [
    "# Answer:\n",
    "movies.loc[:, 'duration'].mean()#I did this first"
   ]
  },
  {
   "cell_type": "code",
   "execution_count": 4,
   "metadata": {},
   "outputs": [
    {
     "data": {
      "text/plain": [
       "120.97957099080695"
      ]
     },
     "execution_count": 4,
     "metadata": {},
     "output_type": "execute_result"
    }
   ],
   "source": [
    "movies.duration.mean()# and then remembered I could use dot notation"
   ]
  },
  {
   "cell_type": "code",
   "execution_count": 61,
   "metadata": {},
   "outputs": [
    {
     "data": {
      "text/plain": [
       "120.97957099080695"
      ]
     },
     "execution_count": 61,
     "metadata": {},
     "output_type": "execute_result"
    }
   ],
   "source": [
    "movies['duration'].mean() #or even this"
   ]
  },
  {
   "cell_type": "markdown",
   "metadata": {},
   "source": [
    "#### Sort the DataFrame by duration to find the shortest and longest movies."
   ]
  },
  {
   "cell_type": "code",
   "execution_count": 6,
   "metadata": {
    "collapsed": true
   },
   "outputs": [
    {
     "name": "stdout",
     "output_type": "stream",
     "text": [
      "     star_rating   title content_rating  genre  duration  \\\n",
      "389          8.0  Freaks        UNRATED  Drama        64   \n",
      "\n",
      "                                           actors_list  \n",
      "389  [u'Wallace Ford', u'Leila Hyams', u'Olga Bacla...  \n",
      "     star_rating   title content_rating  genre  duration  \\\n",
      "476          7.8  Hamlet          PG-13  Drama       242   \n",
      "\n",
      "                                           actors_list  \n",
      "476  [u'Kenneth Branagh', u'Julie Christie', u'Dere...  \n"
     ]
    }
   ],
   "source": [
    "# Answer:#Freaks is the shortest at 64 minutes. Hamlet is the longest at 242 minutes.\n",
    "duration = movies.sort_values(by=['duration'])\n",
    "print(duration.head(1))\n",
    "print(duration.tail(1))"
   ]
  },
  {
   "cell_type": "markdown",
   "metadata": {},
   "source": [
    "#### Create a histogram of duration, choosing an \"appropriate\" number of bins."
   ]
  },
  {
   "cell_type": "code",
   "execution_count": 8,
   "metadata": {
    "collapsed": true
   },
   "outputs": [
    {
     "data": {
      "image/png": "[encoded data removed]",
      "text/plain": [
       "<Figure size 432x288 with 1 Axes>"
      ]
     },
     "metadata": {
      "needs_background": "light"
     },
     "output_type": "display_data"
    }
   ],
   "source": [
    "# Answer:#I tried this three ways, they all return the same thing\n",
    "axes = movies.loc[:, 'duration'].plot(kind='hist', bins=30)\n",
    "                              "
   ]
  },
  {
   "cell_type": "code",
   "execution_count": 10,
   "metadata": {},
   "outputs": [
    {
     "data": {
      "image/png": "[encoded data removed]",
      "text/plain": [
       "<Figure size 432x288 with 1 Axes>"
      ]
     },
     "metadata": {
      "needs_background": "light"
     },
     "output_type": "display_data"
    }
   ],
   "source": [
    "axes = movies.duration.plot(kind='hist', bins=30)"
   ]
  },
  {
   "cell_type": "code",
   "execution_count": 175,
   "metadata": {},
   "outputs": [
    {
     "data": {
      "image/png": "[encoded data removed]",
      "text/plain": [
       "<Figure size 432x288 with 1 Axes>"
      ]
     },
     "metadata": {
      "needs_background": "light"
     },
     "output_type": "display_data"
    }
   ],
   "source": [
    "axes = movies.duration.hist(bins=30)"
   ]
  },
  {
   "cell_type": "markdown",
   "metadata": {},
   "source": [
    "#### Use a box plot to display that same data."
   ]
  },
  {
   "cell_type": "code",
   "execution_count": 11,
   "metadata": {
    "collapsed": true
   },
   "outputs": [
    {
     "data": {
      "image/png": "[encoded data removed]",
      "text/plain": [
       "<Figure size 720x1440 with 1 Axes>"
      ]
     },
     "metadata": {
      "needs_background": "light"
     },
     "output_type": "display_data"
    }
   ],
   "source": [
    "# Answer:\n",
    "axes = movies.loc[:, 'duration'].plot(kind='box', figsize=(10,20))#i used this figure size because \n",
    "#it was too smashed to read otherwise, and bigger than this is too big for the note book."
   ]
  },
  {
   "cell_type": "markdown",
   "metadata": {},
   "source": [
    "## Intermediate level"
   ]
  },
  {
   "cell_type": "markdown",
   "metadata": {},
   "source": [
    "#### Count how many movies have each of the content ratings."
   ]
  },
  {
   "cell_type": "code",
   "execution_count": 12,
   "metadata": {
    "collapsed": true
   },
   "outputs": [
    {
     "data": {
      "text/plain": [
       "R            460\n",
       "PG-13        189\n",
       "PG           123\n",
       "NOT RATED     65\n",
       "APPROVED      47\n",
       "UNRATED       38\n",
       "G             32\n",
       "PASSED         7\n",
       "NC-17          7\n",
       "X              4\n",
       "GP             3\n",
       "TV-MA          1\n",
       "Name: content_rating, dtype: int64"
      ]
     },
     "execution_count": 12,
     "metadata": {},
     "output_type": "execute_result"
    }
   ],
   "source": [
    "# Answer:\n",
    "movies.content_rating.value_counts()"
   ]
  },
  {
   "cell_type": "markdown",
   "metadata": {},
   "source": [
    "#### Use a visualization to display that same data, including a title and x and y labels."
   ]
  },
  {
   "cell_type": "code",
   "execution_count": 13,
   "metadata": {
    "collapsed": true
   },
   "outputs": [
    {
     "data": {
      "image/png": "[encoded data removed]",
      "text/plain": [
       "<Figure size 432x288 with 1 Axes>"
      ]
     },
     "metadata": {
      "needs_background": "light"
     },
     "output_type": "display_data"
    }
   ],
   "source": [
    "# Answer:\n",
    "ax = movies.content_rating.value_counts().plot(kind='bar')\n",
    "plt.ylabel('Total Count')\n",
    "plt.xlabel('Type of Rating')\n",
    "plt.title('Number of Each Rating Type');\n"
   ]
  },
  {
   "cell_type": "markdown",
   "metadata": {},
   "source": [
    "#### Convert the following content ratings to \"UNRATED\": NOT RATED, APPROVED, PASSED, GP."
   ]
  },
  {
   "cell_type": "code",
   "execution_count": 179,
   "metadata": {},
   "outputs": [
    {
     "data": {
      "text/plain": [
       "R          460\n",
       "PG-13      190\n",
       "UNRATED    160\n",
       "PG         125\n",
       "G           32\n",
       "NC-17       12\n",
       "Name: content_rating, dtype: int64"
      ]
     },
     "execution_count": 179,
     "metadata": {},
     "output_type": "execute_result"
    }
   ],
   "source": [
    "\n",
    "movies.content_rating.value_counts()"
   ]
  },
  {
   "cell_type": "code",
   "execution_count": 3,
   "metadata": {
    "collapsed": true
   },
   "outputs": [],
   "source": [
    "# Answer:#I tried to make a dictionary and rename the values that way, but I kept getting errors \n",
    "#I couldn't figure out so I looked up other methods and this seemed easiest. I used inplace=True instead of\n",
    "#movies = movies.replace\n",
    "\n",
    "movies.replace(to_replace=['NOT RATED','APPROVED','PASSED','GP'], value=['UNRATED', 'UNRATED', 'UNRATED', 'UNRATED'], inplace=True)  \n"
   ]
  },
  {
   "cell_type": "code",
   "execution_count": 4,
   "metadata": {},
   "outputs": [
    {
     "data": {
      "text/plain": [
       "R          460\n",
       "PG-13      189\n",
       "UNRATED    160\n",
       "PG         123\n",
       "G           32\n",
       "NC-17        7\n",
       "X            4\n",
       "TV-MA        1\n",
       "Name: content_rating, dtype: int64"
      ]
     },
     "execution_count": 4,
     "metadata": {},
     "output_type": "execute_result"
    }
   ],
   "source": [
    "movies.content_rating.value_counts()#running this shows me it worked"
   ]
  },
  {
   "cell_type": "markdown",
   "metadata": {},
   "source": [
    "#### Convert the following content ratings to \"NC-17\": X, TV-MA."
   ]
  },
  {
   "cell_type": "code",
   "execution_count": 5,
   "metadata": {
    "collapsed": true
   },
   "outputs": [
    {
     "data": {
      "text/plain": [
       "R          460\n",
       "PG-13      189\n",
       "UNRATED    160\n",
       "PG         123\n",
       "G           32\n",
       "NC-17       12\n",
       "Name: content_rating, dtype: int64"
      ]
     },
     "execution_count": 5,
     "metadata": {},
     "output_type": "execute_result"
    }
   ],
   "source": [
    "# Answer:#I used the same method as above and ran the value_counts to check\n",
    "movies.replace(to_replace=['X', 'TV-MA'], value=['NC-17','NC-17'], inplace=True)\n",
    "movies.content_rating.value_counts()"
   ]
  },
  {
   "cell_type": "markdown",
   "metadata": {},
   "source": [
    "#### Count the number of missing values in each column."
   ]
  },
  {
   "cell_type": "code",
   "execution_count": 6,
   "metadata": {
    "collapsed": true
   },
   "outputs": [
    {
     "data": {
      "text/plain": [
       "star_rating       0\n",
       "title             0\n",
       "content_rating    3\n",
       "genre             0\n",
       "duration          0\n",
       "actors_list       0\n",
       "dtype: int64"
      ]
     },
     "execution_count": 6,
     "metadata": {},
     "output_type": "execute_result"
    }
   ],
   "source": [
    "# Answer:\n",
    "movies.loc[:,:].isna().sum()"
   ]
  },
  {
   "cell_type": "markdown",
   "metadata": {},
   "source": [
    "#### If there are missing values: examine them, then fill them in with \"reasonable\" values."
   ]
  },
  {
   "cell_type": "code",
   "execution_count": 7,
   "metadata": {},
   "outputs": [
    {
     "data": {
      "text/html": [
       "<div>\n",
       "<style scoped>\n",
       "    .dataframe tbody tr th:only-of-type {\n",
       "        vertical-align: middle;\n",
       "    }\n",
       "\n",
       "    .dataframe tbody tr th {\n",
       "        vertical-align: top;\n",
       "    }\n",
       "\n",
       "    .dataframe thead th {\n",
       "        text-align: right;\n",
       "    }\n",
       "</style>\n",
       "<table border=\"1\" class=\"dataframe\">\n",
       "  <thead>\n",
       "    <tr style=\"text-align: right;\">\n",
       "      <th></th>\n",
       "      <th>star_rating</th>\n",
       "      <th>title</th>\n",
       "      <th>content_rating</th>\n",
       "      <th>genre</th>\n",
       "      <th>duration</th>\n",
       "      <th>actors_list</th>\n",
       "    </tr>\n",
       "  </thead>\n",
       "  <tbody>\n",
       "    <tr>\n",
       "      <th>187</th>\n",
       "      <td>8.2</td>\n",
       "      <td>Butch Cassidy and the Sundance Kid</td>\n",
       "      <td>NaN</td>\n",
       "      <td>Biography</td>\n",
       "      <td>110</td>\n",
       "      <td>[u'Paul Newman', u'Robert Redford', u'Katharin...</td>\n",
       "    </tr>\n",
       "    <tr>\n",
       "      <th>649</th>\n",
       "      <td>7.7</td>\n",
       "      <td>Where Eagles Dare</td>\n",
       "      <td>NaN</td>\n",
       "      <td>Action</td>\n",
       "      <td>158</td>\n",
       "      <td>[u'Richard Burton', u'Clint Eastwood', u'Mary ...</td>\n",
       "    </tr>\n",
       "    <tr>\n",
       "      <th>936</th>\n",
       "      <td>7.4</td>\n",
       "      <td>True Grit</td>\n",
       "      <td>NaN</td>\n",
       "      <td>Adventure</td>\n",
       "      <td>128</td>\n",
       "      <td>[u'John Wayne', u'Kim Darby', u'Glen Campbell']</td>\n",
       "    </tr>\n",
       "  </tbody>\n",
       "</table>\n",
       "</div>"
      ],
      "text/plain": [
       "     star_rating                               title content_rating  \\\n",
       "187          8.2  Butch Cassidy and the Sundance Kid            NaN   \n",
       "649          7.7                   Where Eagles Dare            NaN   \n",
       "936          7.4                           True Grit            NaN   \n",
       "\n",
       "         genre  duration                                        actors_list  \n",
       "187  Biography       110  [u'Paul Newman', u'Robert Redford', u'Katharin...  \n",
       "649     Action       158  [u'Richard Burton', u'Clint Eastwood', u'Mary ...  \n",
       "936  Adventure       128    [u'John Wayne', u'Kim Darby', u'Glen Campbell']  "
      ]
     },
     "execution_count": 7,
     "metadata": {},
     "output_type": "execute_result"
    }
   ],
   "source": [
    "movies.loc[movies.loc[:, 'content_rating'].isna(),:]"
   ]
  },
  {
   "cell_type": "code",
   "execution_count": 8,
   "metadata": {
    "collapsed": true
   },
   "outputs": [
    {
     "name": "stderr",
     "output_type": "stream",
     "text": [
      "C:\\Users\\lacey\\Anaconda3\\lib\\site-packages\\pandas\\core\\frame.py:4034: SettingWithCopyWarning: \n",
      "A value is trying to be set on a copy of a slice from a DataFrame\n",
      "\n",
      "See the caveats in the documentation: http://pandas.pydata.org/pandas-docs/stable/indexing.html#indexing-view-versus-copy\n",
      "  downcast=downcast, **kwargs)\n"
     ]
    }
   ],
   "source": [
    "# Answer:\n",
    "movies.loc[936: \"content_rating\"].fillna(value='PG-13', inplace=True)\n",
    "movies.loc[187: \"content_rating\"].fillna(value='PG', inplace=True)\n",
    "movies.loc[649: \"content_rating\"].fillna(value='PG', inplace=True)\n",
    "\n",
    "#this one was a little confusing. I had to place row 936 first because with it in the last position instead\n",
    "#of the first, it filled with PG and not PG-13, but the same thing has not happened for the others. They do not now\n",
    "#say PG-13, they still say PG. I wasn't sure if it had to do with Jupyter lab, or the warning below.\n"
   ]
  },
  {
   "cell_type": "code",
   "execution_count": 9,
   "metadata": {},
   "outputs": [
    {
     "data": {
      "text/html": [
       "<div>\n",
       "<style scoped>\n",
       "    .dataframe tbody tr th:only-of-type {\n",
       "        vertical-align: middle;\n",
       "    }\n",
       "\n",
       "    .dataframe tbody tr th {\n",
       "        vertical-align: top;\n",
       "    }\n",
       "\n",
       "    .dataframe thead th {\n",
       "        text-align: right;\n",
       "    }\n",
       "</style>\n",
       "<table border=\"1\" class=\"dataframe\">\n",
       "  <thead>\n",
       "    <tr style=\"text-align: right;\">\n",
       "      <th></th>\n",
       "      <th>star_rating</th>\n",
       "      <th>title</th>\n",
       "      <th>content_rating</th>\n",
       "      <th>genre</th>\n",
       "      <th>duration</th>\n",
       "      <th>actors_list</th>\n",
       "    </tr>\n",
       "  </thead>\n",
       "  <tbody>\n",
       "  </tbody>\n",
       "</table>\n",
       "</div>"
      ],
      "text/plain": [
       "Empty DataFrame\n",
       "Columns: [star_rating, title, content_rating, genre, duration, actors_list]\n",
       "Index: []"
      ]
     },
     "execution_count": 9,
     "metadata": {},
     "output_type": "execute_result"
    }
   ],
   "source": [
    "movies.loc[movies.loc[:, 'content_rating'].isna(),:]#this tells me there are no more null values"
   ]
  },
  {
   "cell_type": "code",
   "execution_count": 13,
   "metadata": {},
   "outputs": [
    {
     "data": {
      "text/html": [
       "<div>\n",
       "<style scoped>\n",
       "    .dataframe tbody tr th:only-of-type {\n",
       "        vertical-align: middle;\n",
       "    }\n",
       "\n",
       "    .dataframe tbody tr th {\n",
       "        vertical-align: top;\n",
       "    }\n",
       "\n",
       "    .dataframe thead th {\n",
       "        text-align: right;\n",
       "    }\n",
       "</style>\n",
       "<table border=\"1\" class=\"dataframe\">\n",
       "  <thead>\n",
       "    <tr style=\"text-align: right;\">\n",
       "      <th></th>\n",
       "      <th>star_rating</th>\n",
       "      <th>title</th>\n",
       "      <th>content_rating</th>\n",
       "      <th>genre</th>\n",
       "      <th>duration</th>\n",
       "      <th>actors_list</th>\n",
       "    </tr>\n",
       "  </thead>\n",
       "  <tbody>\n",
       "    <tr>\n",
       "      <th>936</th>\n",
       "      <td>7.4</td>\n",
       "      <td>True Grit</td>\n",
       "      <td>PG-13</td>\n",
       "      <td>Adventure</td>\n",
       "      <td>128</td>\n",
       "      <td>[u'John Wayne', u'Kim Darby', u'Glen Campbell']</td>\n",
       "    </tr>\n",
       "  </tbody>\n",
       "</table>\n",
       "</div>"
      ],
      "text/plain": [
       "     star_rating      title content_rating      genre  duration  \\\n",
       "936          7.4  True Grit          PG-13  Adventure       128   \n",
       "\n",
       "                                         actors_list  \n",
       "936  [u'John Wayne', u'Kim Darby', u'Glen Campbell']  "
      ]
     },
     "execution_count": 13,
     "metadata": {},
     "output_type": "execute_result"
    }
   ],
   "source": [
    "movies.loc[936:'content_rating',].head(1)"
   ]
  },
  {
   "cell_type": "code",
   "execution_count": 14,
   "metadata": {},
   "outputs": [
    {
     "data": {
      "text/html": [
       "<div>\n",
       "<style scoped>\n",
       "    .dataframe tbody tr th:only-of-type {\n",
       "        vertical-align: middle;\n",
       "    }\n",
       "\n",
       "    .dataframe tbody tr th {\n",
       "        vertical-align: top;\n",
       "    }\n",
       "\n",
       "    .dataframe thead th {\n",
       "        text-align: right;\n",
       "    }\n",
       "</style>\n",
       "<table border=\"1\" class=\"dataframe\">\n",
       "  <thead>\n",
       "    <tr style=\"text-align: right;\">\n",
       "      <th></th>\n",
       "      <th>star_rating</th>\n",
       "      <th>title</th>\n",
       "      <th>content_rating</th>\n",
       "      <th>genre</th>\n",
       "      <th>duration</th>\n",
       "      <th>actors_list</th>\n",
       "    </tr>\n",
       "  </thead>\n",
       "  <tbody>\n",
       "    <tr>\n",
       "      <th>187</th>\n",
       "      <td>8.2</td>\n",
       "      <td>Butch Cassidy and the Sundance Kid</td>\n",
       "      <td>PG</td>\n",
       "      <td>Biography</td>\n",
       "      <td>110</td>\n",
       "      <td>[u'Paul Newman', u'Robert Redford', u'Katharin...</td>\n",
       "    </tr>\n",
       "  </tbody>\n",
       "</table>\n",
       "</div>"
      ],
      "text/plain": [
       "     star_rating                               title content_rating  \\\n",
       "187          8.2  Butch Cassidy and the Sundance Kid             PG   \n",
       "\n",
       "         genre  duration                                        actors_list  \n",
       "187  Biography       110  [u'Paul Newman', u'Robert Redford', u'Katharin...  "
      ]
     },
     "execution_count": 14,
     "metadata": {},
     "output_type": "execute_result"
    }
   ],
   "source": [
    "movies.loc[187:'content_rating',].head(1)"
   ]
  },
  {
   "cell_type": "code",
   "execution_count": 12,
   "metadata": {},
   "outputs": [
    {
     "data": {
      "text/html": [
       "<div>\n",
       "<style scoped>\n",
       "    .dataframe tbody tr th:only-of-type {\n",
       "        vertical-align: middle;\n",
       "    }\n",
       "\n",
       "    .dataframe tbody tr th {\n",
       "        vertical-align: top;\n",
       "    }\n",
       "\n",
       "    .dataframe thead th {\n",
       "        text-align: right;\n",
       "    }\n",
       "</style>\n",
       "<table border=\"1\" class=\"dataframe\">\n",
       "  <thead>\n",
       "    <tr style=\"text-align: right;\">\n",
       "      <th></th>\n",
       "      <th>star_rating</th>\n",
       "      <th>title</th>\n",
       "      <th>content_rating</th>\n",
       "      <th>genre</th>\n",
       "      <th>duration</th>\n",
       "      <th>actors_list</th>\n",
       "    </tr>\n",
       "  </thead>\n",
       "  <tbody>\n",
       "    <tr>\n",
       "      <th>649</th>\n",
       "      <td>7.7</td>\n",
       "      <td>Where Eagles Dare</td>\n",
       "      <td>PG</td>\n",
       "      <td>Action</td>\n",
       "      <td>158</td>\n",
       "      <td>[u'Richard Burton', u'Clint Eastwood', u'Mary ...</td>\n",
       "    </tr>\n",
       "  </tbody>\n",
       "</table>\n",
       "</div>"
      ],
      "text/plain": [
       "     star_rating              title content_rating   genre  duration  \\\n",
       "649          7.7  Where Eagles Dare             PG  Action       158   \n",
       "\n",
       "                                           actors_list  \n",
       "649  [u'Richard Burton', u'Clint Eastwood', u'Mary ...  "
      ]
     },
     "execution_count": 12,
     "metadata": {},
     "output_type": "execute_result"
    }
   ],
   "source": [
    "movies.loc[649:'content_rating',].head(1)"
   ]
  },
  {
   "cell_type": "markdown",
   "metadata": {},
   "source": [
    "#### Calculate the average star rating for movies 2 hours or longer, and compare that with the average star rating for movies shorter than 2 hours."
   ]
  },
  {
   "cell_type": "code",
   "execution_count": 60,
   "metadata": {
    "collapsed": true
   },
   "outputs": [
    {
     "name": "stdout",
     "output_type": "stream",
     "text": [
      "7.948898678414082 : Average Star Rating for movies 2 hours or longer\n",
      "7.838666666666657 : Average Star Rating for movies less than 2 hours long\n",
      "0.11023201174742514\n"
     ]
    }
   ],
   "source": [
    "# Answer:\n",
    "long_movies = movies[movies.duration >= 120]\n",
    "short_movies = movies[movies.duration < 120]\n",
    "print(long_movies.star_rating.mean(),':', 'Average Star Rating for movies 2 hours or longer')\n",
    "print(short_movies.star_rating.mean(),':', 'Average Star Rating for movies less than 2 hours long')\n",
    "print(long_movies.star_rating.mean() - short_movies.star_rating.mean())\n",
    "#there doesn't seem to be a meaningful impact on the average star rating if a movie is less than 2 hours or if it's 2\n",
    "#hours or more."
   ]
  },
  {
   "cell_type": "markdown",
   "metadata": {},
   "source": [
    "#### Use a visualization to detect whether there is a relationship between duration and star rating."
   ]
  },
  {
   "cell_type": "code",
   "execution_count": 18,
   "metadata": {
    "collapsed": true
   },
   "outputs": [
    {
     "data": {
      "image/png": "[encoded data removed]",
      "text/plain": [
       "<Figure size 720x1440 with 1 Axes>"
      ]
     },
     "metadata": {
      "needs_background": "light"
     },
     "output_type": "display_data"
    }
   ],
   "source": [
    "# Answer:\n",
    "axes= movies.loc[:, ['duration','star_rating']].plot(kind='scatter', x='duration', y='star_rating', alpha=.5,figsize=(10,20))"
   ]
  },
  {
   "cell_type": "markdown",
   "metadata": {},
   "source": [
    "The scatter plot seems to show that the movie with the highest star rating is almost 2.5 hours in length. There is only one movie less than 2 hours long that got a rating of 8.75 or higher. It seems it is hard for a shorter movie to be good enough to get a star rating higher than 8.5, and comparatively easier for a long movie to get any rang of scores. A movie"
   ]
  },
  {
   "cell_type": "code",
   "execution_count": 312,
   "metadata": {},
   "outputs": [
    {
     "data": {
      "image/png": "[encoded data removed]",
      "text/plain": [
       "<Figure size 828.875x360 with 1 Axes>"
      ]
     },
     "metadata": {
      "needs_background": "light"
     },
     "output_type": "display_data"
    }
   ],
   "source": [
    "#This one was just for fun, I was trying to figure out what I could do with seaborn and it looks nice, so I included it.\n",
    "g=sns.relplot(x=\"duration\", y=\"star_rating\", hue='content_rating', aspect=2,data=movies)"
   ]
  },
  {
   "cell_type": "markdown",
   "metadata": {},
   "source": [
    "#### Calculate the average duration for each genre."
   ]
  },
  {
   "cell_type": "code",
   "execution_count": 116,
   "metadata": {
    "collapsed": true
   },
   "outputs": [
    {
     "data": {
      "text/plain": [
       "genre\n",
       "Action       126.485294\n",
       "Adventure    134.840000\n",
       "Animation     96.596774\n",
       "Biography    131.844156\n",
       "Comedy       107.602564\n",
       "Crime        122.298387\n",
       "Drama        126.539568\n",
       "Family       107.500000\n",
       "Fantasy      112.000000\n",
       "Film-Noir     97.333333\n",
       "History       66.000000\n",
       "Horror       102.517241\n",
       "Mystery      115.625000\n",
       "Sci-Fi       109.000000\n",
       "Thriller     114.200000\n",
       "Western      136.666667\n",
       "Name: duration, dtype: float64"
      ]
     },
     "execution_count": 116,
     "metadata": {},
     "output_type": "execute_result"
    }
   ],
   "source": [
    "# Answer:\n",
    "movies.groupby('genre').duration.mean()"
   ]
  },
  {
   "cell_type": "markdown",
   "metadata": {},
   "source": [
    "## Advanced level"
   ]
  },
  {
   "cell_type": "markdown",
   "metadata": {},
   "source": [
    "#### Visualize the relationship between content rating and duration."
   ]
  },
  {
   "cell_type": "code",
   "execution_count": 149,
   "metadata": {
    "collapsed": true
   },
   "outputs": [],
   "source": [
    "# Answer:\n",
    "#I tried a basic line plot and it was not meaningful and I couldn't tell much from a histogram. I like this\n",
    "#option using seaborn because you can see that we are dealing with a lot of movies and you have\n",
    "#the option to add hue, either to add a third dimension or to highlight an existing one. We can see here, the\n",
    "#darker the dot, the longer the movie."
   ]
  },
  {
   "cell_type": "code",
   "execution_count": 153,
   "metadata": {},
   "outputs": [
    {
     "data": {
      "image/png": "[encoded data removed]",
      "text/plain": [
       "<Figure size 798.125x360 with 1 Axes>"
      ]
     },
     "metadata": {
      "needs_background": "light"
     },
     "output_type": "display_data"
    }
   ],
   "source": [
    "sns.relplot(x=\"duration\", y=\"content_rating\", hue='duration',data=movies, aspect=2, row_order=['G','PG','PG-13','NC-17','R','UNRATED']);"
   ]
  },
  {
   "cell_type": "markdown",
   "metadata": {},
   "source": [
    "G rated movies (probably \"kids movies\") tend to be shorter in duration, looking at this graph would make me want to check the one G-rated movie that's more than 225 minutes long. The plot above is only using the altered content ratings list. Below uses the original data."
   ]
  },
  {
   "cell_type": "code",
   "execution_count": 183,
   "metadata": {},
   "outputs": [
    {
     "data": {
      "image/png": "[encoded data removed]",
      "text/plain": [
       "<Figure size 798.125x360 with 1 Axes>"
      ]
     },
     "metadata": {
      "needs_background": "light"
     },
     "output_type": "display_data"
    }
   ],
   "source": [
    "movies2 = pd.read_csv('./data/imdb_1000.csv')\n",
    "sns.relplot(x=\"duration\", y=\"content_rating\", hue='duration',data=movies2, aspect=2, row_order=['G','PG','PG-13','NC-17','R','UNRATED']);"
   ]
  },
  {
   "cell_type": "markdown",
   "metadata": {},
   "source": [
    "#### Find the title of the movie with the highest star rating in each genre"
   ]
  },
  {
   "cell_type": "code",
   "execution_count": 207,
   "metadata": {},
   "outputs": [
    {
     "data": {
      "text/plain": [
       "genre\n",
       "Action                                     The Dark Knight\n",
       "Adventure    The Lord of the Rings: The Return of the King\n",
       "Animation                                    Spirited Away\n",
       "Biography                                 Schindler's List\n",
       "Comedy                                        Modern Times\n",
       "Crime                             The Shawshank Redemption\n",
       "Drama                                         12 Angry Men\n",
       "Family                          E.T. the Extra-Terrestrial\n",
       "Fantasy                          The City of Lost Children\n",
       "Film-Noir                                    The Third Man\n",
       "History                                Battleship Potemkin\n",
       "Horror                                              Psycho\n",
       "Mystery                                        Rear Window\n",
       "Sci-Fi                                        Blade Runner\n",
       "Thriller                                 Shadow of a Doubt\n",
       "Western                     The Good, the Bad and the Ugly\n",
       "Name: title, dtype: object"
      ]
     },
     "execution_count": 207,
     "metadata": {},
     "output_type": "execute_result"
    }
   ],
   "source": [
    "#Answer:It was hard to find the right order to put these arguments in, I had kept trying to do this\n",
    "#with star_rating.max() and then trying to get the title based on that. I had to do quite a bit of reading\n",
    "#before I found out .first() even existed.\n",
    "movies.sort_values('star_rating', ascending=False).groupby('genre').title.first()"
   ]
  },
  {
   "cell_type": "markdown",
   "metadata": {},
   "source": [
    "Before I figured out the solution above, I had got tired at one point of trying to figure out the short way\n",
    "and discovered this code below works, but it's extremely tedious and you have to do a lot of work on your own, without help from the code.  I made it through three genres before I went back to trying to making it work with less lines of code."
   ]
  },
  {
   "cell_type": "code",
   "execution_count": 208,
   "metadata": {},
   "outputs": [
    {
     "name": "stdout",
     "output_type": "stream",
     "text": [
      "                 star_rating content_rating   genre  duration  \\\n",
      "title                                                           \n",
      "The Dark Knight          9.0          PG-13  Action       152   \n",
      "\n",
      "                                                       actors_list  \n",
      "title                                                               \n",
      "The Dark Knight  [u'Christian Bale', u'Heath Ledger', u'Aaron E...  \n",
      "                                               star_rating content_rating  \\\n",
      "title                                                                       \n",
      "The Lord of the Rings: The Return of the King          8.9          PG-13   \n",
      "\n",
      "                                                   genre  duration  \\\n",
      "title                                                                \n",
      "The Lord of the Rings: The Return of the King  Adventure       201   \n",
      "\n",
      "                                                                                     actors_list  \n",
      "title                                                                                             \n",
      "The Lord of the Rings: The Return of the King  [u'Elijah Wood', u'Viggo Mortensen', u'Ian McK...  \n",
      "               star_rating content_rating      genre  duration  \\\n",
      "title                                                            \n",
      "Spirited Away          8.6             PG  Animation       125   \n",
      "\n",
      "                                                     actors_list  \n",
      "title                                                             \n",
      "Spirited Away  [u'Daveigh Chase', u'Suzanne Pleshette', u'Miy...  \n"
     ]
    }
   ],
   "source": [
    "Action = title_search.iloc[0:135,:]\n",
    "print(Action.sort_values(by='star_rating', ascending=False).head(1))\n",
    "Adventure =title_search.iloc[136:211,:]\n",
    "print(Adventure.sort_values(by='star_rating',ascending=False).head(1))\n",
    "Animation =title_search.iloc[212:274,:]\n",
    "print(Animation.sort_values(by='star_rating',ascending=False).head(1))"
   ]
  },
  {
   "cell_type": "markdown",
   "metadata": {},
   "source": [
    "#### Check if there are multiple movies with the same title, and if so, determine if they are actually duplicates."
   ]
  },
  {
   "cell_type": "code",
   "execution_count": 67,
   "metadata": {
    "collapsed": true
   },
   "outputs": [
    {
     "data": {
      "text/html": [
       "<div>\n",
       "<style scoped>\n",
       "    .dataframe tbody tr th:only-of-type {\n",
       "        vertical-align: middle;\n",
       "    }\n",
       "\n",
       "    .dataframe tbody tr th {\n",
       "        vertical-align: top;\n",
       "    }\n",
       "\n",
       "    .dataframe thead th {\n",
       "        text-align: right;\n",
       "    }\n",
       "</style>\n",
       "<table border=\"1\" class=\"dataframe\">\n",
       "  <thead>\n",
       "    <tr style=\"text-align: right;\">\n",
       "      <th></th>\n",
       "      <th>star_rating</th>\n",
       "      <th>title</th>\n",
       "      <th>content_rating</th>\n",
       "      <th>genre</th>\n",
       "      <th>duration</th>\n",
       "    </tr>\n",
       "    <tr>\n",
       "      <th>actors_list</th>\n",
       "      <th></th>\n",
       "      <th></th>\n",
       "      <th></th>\n",
       "      <th></th>\n",
       "      <th></th>\n",
       "    </tr>\n",
       "  </thead>\n",
       "  <tbody>\n",
       "    <tr>\n",
       "      <th>[u'Daniel Craig', u'Rooney Mara', u'Christopher Plummer']</th>\n",
       "      <td>7.9</td>\n",
       "      <td>The Girl with the Dragon Tattoo</td>\n",
       "      <td>R</td>\n",
       "      <td>Crime</td>\n",
       "      <td>158</td>\n",
       "    </tr>\n",
       "    <tr>\n",
       "      <th>[u'Michael Nyqvist', u'Noomi Rapace', u'Ewa Fr\\xf6ling']</th>\n",
       "      <td>7.8</td>\n",
       "      <td>The Girl with the Dragon Tattoo</td>\n",
       "      <td>R</td>\n",
       "      <td>Crime</td>\n",
       "      <td>152</td>\n",
       "    </tr>\n",
       "    <tr>\n",
       "      <th>[u'Jeff Bridges', u'Matt Damon', u'Hailee Steinfeld']</th>\n",
       "      <td>7.7</td>\n",
       "      <td>True Grit</td>\n",
       "      <td>PG-13</td>\n",
       "      <td>Adventure</td>\n",
       "      <td>110</td>\n",
       "    </tr>\n",
       "    <tr>\n",
       "      <th>[u'Hugh Jackman', u'Russell Crowe', u'Anne Hathaway']</th>\n",
       "      <td>7.7</td>\n",
       "      <td>Les Miserables</td>\n",
       "      <td>PG-13</td>\n",
       "      <td>Drama</td>\n",
       "      <td>158</td>\n",
       "    </tr>\n",
       "    <tr>\n",
       "      <th>[u'Bela Lugosi', u'Helen Chandler', u'David Manners']</th>\n",
       "      <td>7.6</td>\n",
       "      <td>Dracula</td>\n",
       "      <td>UNRATED</td>\n",
       "      <td>Horror</td>\n",
       "      <td>85</td>\n",
       "    </tr>\n",
       "    <tr>\n",
       "      <th>[u'Gary Oldman', u'Winona Ryder', u'Anthony Hopkins']</th>\n",
       "      <td>7.5</td>\n",
       "      <td>Dracula</td>\n",
       "      <td>R</td>\n",
       "      <td>Horror</td>\n",
       "      <td>128</td>\n",
       "    </tr>\n",
       "    <tr>\n",
       "      <th>[u'Liam Neeson', u'Geoffrey Rush', u'Uma Thurman']</th>\n",
       "      <td>7.5</td>\n",
       "      <td>Les Miserables</td>\n",
       "      <td>PG-13</td>\n",
       "      <td>Crime</td>\n",
       "      <td>134</td>\n",
       "    </tr>\n",
       "    <tr>\n",
       "      <th>[u'John Wayne', u'Kim Darby', u'Glen Campbell']</th>\n",
       "      <td>7.4</td>\n",
       "      <td>True Grit</td>\n",
       "      <td>PG-13</td>\n",
       "      <td>Adventure</td>\n",
       "      <td>128</td>\n",
       "    </tr>\n",
       "  </tbody>\n",
       "</table>\n",
       "</div>"
      ],
      "text/plain": [
       "                                                    star_rating  \\\n",
       "actors_list                                                       \n",
       "[u'Daniel Craig', u'Rooney Mara', u'Christopher...          7.9   \n",
       "[u'Michael Nyqvist', u'Noomi Rapace', u'Ewa Fr\\...          7.8   \n",
       "[u'Jeff Bridges', u'Matt Damon', u'Hailee Stein...          7.7   \n",
       "[u'Hugh Jackman', u'Russell Crowe', u'Anne Hath...          7.7   \n",
       "[u'Bela Lugosi', u'Helen Chandler', u'David Man...          7.6   \n",
       "[u'Gary Oldman', u'Winona Ryder', u'Anthony Hop...          7.5   \n",
       "[u'Liam Neeson', u'Geoffrey Rush', u'Uma Thurman']          7.5   \n",
       "[u'John Wayne', u'Kim Darby', u'Glen Campbell']             7.4   \n",
       "\n",
       "                                                                              title  \\\n",
       "actors_list                                                                           \n",
       "[u'Daniel Craig', u'Rooney Mara', u'Christopher...  The Girl with the Dragon Tattoo   \n",
       "[u'Michael Nyqvist', u'Noomi Rapace', u'Ewa Fr\\...  The Girl with the Dragon Tattoo   \n",
       "[u'Jeff Bridges', u'Matt Damon', u'Hailee Stein...                        True Grit   \n",
       "[u'Hugh Jackman', u'Russell Crowe', u'Anne Hath...                   Les Miserables   \n",
       "[u'Bela Lugosi', u'Helen Chandler', u'David Man...                          Dracula   \n",
       "[u'Gary Oldman', u'Winona Ryder', u'Anthony Hop...                          Dracula   \n",
       "[u'Liam Neeson', u'Geoffrey Rush', u'Uma Thurman']                   Les Miserables   \n",
       "[u'John Wayne', u'Kim Darby', u'Glen Campbell']                           True Grit   \n",
       "\n",
       "                                                   content_rating      genre  \\\n",
       "actors_list                                                                    \n",
       "[u'Daniel Craig', u'Rooney Mara', u'Christopher...              R      Crime   \n",
       "[u'Michael Nyqvist', u'Noomi Rapace', u'Ewa Fr\\...              R      Crime   \n",
       "[u'Jeff Bridges', u'Matt Damon', u'Hailee Stein...          PG-13  Adventure   \n",
       "[u'Hugh Jackman', u'Russell Crowe', u'Anne Hath...          PG-13      Drama   \n",
       "[u'Bela Lugosi', u'Helen Chandler', u'David Man...        UNRATED     Horror   \n",
       "[u'Gary Oldman', u'Winona Ryder', u'Anthony Hop...              R     Horror   \n",
       "[u'Liam Neeson', u'Geoffrey Rush', u'Uma Thurman']          PG-13      Crime   \n",
       "[u'John Wayne', u'Kim Darby', u'Glen Campbell']             PG-13  Adventure   \n",
       "\n",
       "                                                    duration  \n",
       "actors_list                                                   \n",
       "[u'Daniel Craig', u'Rooney Mara', u'Christopher...       158  \n",
       "[u'Michael Nyqvist', u'Noomi Rapace', u'Ewa Fr\\...       152  \n",
       "[u'Jeff Bridges', u'Matt Damon', u'Hailee Stein...       110  \n",
       "[u'Hugh Jackman', u'Russell Crowe', u'Anne Hath...       158  \n",
       "[u'Bela Lugosi', u'Helen Chandler', u'David Man...        85  \n",
       "[u'Gary Oldman', u'Winona Ryder', u'Anthony Hop...       128  \n",
       "[u'Liam Neeson', u'Geoffrey Rush', u'Uma Thurman']       134  \n",
       "[u'John Wayne', u'Kim Darby', u'Glen Campbell']          128  "
      ]
     },
     "execution_count": 67,
     "metadata": {},
     "output_type": "execute_result"
    }
   ],
   "source": [
    "# Answer:\n",
    "#The movies appear to be a different rendition of the same story. \n",
    "#I have checked IMDB and confirmed each movie is unique.\n",
    "#i used keep=False because otherwise it would not return all values. I changed the index to actors list\n",
    "#to make it easier for me to read, it was cutting it off when it was a column.\n",
    "duplicates = movies[movies.duplicated(subset='title', keep=False)]\n",
    "duplicates.set_index('actors_list')\n"
   ]
  },
  {
   "cell_type": "markdown",
   "metadata": {},
   "source": [
    "#### Calculate the average star rating for each genre, but only include genres with at least 10 movies\n"
   ]
  },
  {
   "cell_type": "markdown",
   "metadata": {},
   "source": [
    "**You only need to choose one of the options below.** However, solving for multiple options would count as \"extra credit\" that could e.g. raise your score from a 2 (\"meets expectations\") to a 3 (\"exceeds expectations\")."
   ]
  },
  {
   "cell_type": "markdown",
   "metadata": {},
   "source": [
    "#### Option 1: manually create a list of relevant genres, then filter using that list"
   ]
  },
  {
   "cell_type": "code",
   "execution_count": 235,
   "metadata": {
    "collapsed": true
   },
   "outputs": [
    {
     "data": {
      "text/plain": [
       "genre\n",
       "Action       7.884559\n",
       "Adventure    7.933333\n",
       "Animation    7.914516\n",
       "Biography    7.862338\n",
       "Comedy       7.822436\n",
       "Crime        7.916935\n",
       "Drama        7.902518\n",
       "Horror       7.806897\n",
       "Mystery      7.975000\n",
       "Name: star_rating, dtype: float64"
      ]
     },
     "execution_count": 235,
     "metadata": {},
     "output_type": "execute_result"
    }
   ],
   "source": [
    "# Answer: \n",
    "genres_to_include = ['Drama', 'Comedy','Action','Crime','Biography','Adventure','Animation','Horror','Mystery']\n",
    "#genres not to include: ['Western','Sci-Fi','Thriller','Film-Noir','Family','Fantasy','History']\n",
    "movies[movies.genre.isin(genres_to_include)].groupby('genre').star_rating.mean()\n"
   ]
  },
  {
   "cell_type": "markdown",
   "metadata": {},
   "source": [
    "#### Option 2: automatically create a list of relevant genres by saving the value_counts and then filtering"
   ]
  },
  {
   "cell_type": "code",
   "execution_count": null,
   "metadata": {
    "collapsed": true
   },
   "outputs": [],
   "source": []
  },
  {
   "cell_type": "markdown",
   "metadata": {},
   "source": [
    "#### Option 3: calculate the average star rating for all genres, then filter using a boolean Series"
   ]
  },
  {
   "cell_type": "code",
   "execution_count": 304,
   "metadata": {
    "collapsed": true
   },
   "outputs": [],
   "source": [
    "# Answer:\n",
    "\n",
    "    "
   ]
  },
  {
   "cell_type": "markdown",
   "metadata": {},
   "source": [
    "#### Option 4: aggregate by count and mean, then filter using the count"
   ]
  },
  {
   "cell_type": "code",
   "execution_count": 250,
   "metadata": {
    "collapsed": true
   },
   "outputs": [],
   "source": [
    "# Answer:\n"
   ]
  },
  {
   "cell_type": "markdown",
   "metadata": {},
   "source": [
    "## Bonus"
   ]
  },
  {
   "cell_type": "markdown",
   "metadata": {},
   "source": [
    "#### Figure out something \"interesting\" using the actors data!"
   ]
  },
  {
   "cell_type": "code",
   "execution_count": 261,
   "metadata": {
    "collapsed": true
   },
   "outputs": [
    {
     "data": {
      "text/plain": [
       "0    [u'Daniel Radcliffe', u'Emma Watson', u'Rupert...\n",
       "dtype: object"
      ]
     },
     "execution_count": 261,
     "metadata": {},
     "output_type": "execute_result"
    }
   ],
   "source": [
    "movies.actors_list.mode()"
   ]
  },
  {
   "cell_type": "code",
   "execution_count": 276,
   "metadata": {},
   "outputs": [],
   "source": [
    "actors = movies.set_index('actors_list').sort_values(by='star_rating', ascending=False)"
   ]
  },
  {
   "cell_type": "code",
   "execution_count": 287,
   "metadata": {},
   "outputs": [
    {
     "data": {
      "text/html": [
       "<div>\n",
       "<style scoped>\n",
       "    .dataframe tbody tr th:only-of-type {\n",
       "        vertical-align: middle;\n",
       "    }\n",
       "\n",
       "    .dataframe tbody tr th {\n",
       "        vertical-align: top;\n",
       "    }\n",
       "\n",
       "    .dataframe thead th {\n",
       "        text-align: right;\n",
       "    }\n",
       "</style>\n",
       "<table border=\"1\" class=\"dataframe\">\n",
       "  <thead>\n",
       "    <tr style=\"text-align: right;\">\n",
       "      <th></th>\n",
       "      <th>star_rating</th>\n",
       "      <th>title</th>\n",
       "      <th>content_rating</th>\n",
       "      <th>genre</th>\n",
       "      <th>duration</th>\n",
       "    </tr>\n",
       "    <tr>\n",
       "      <th>actors_list</th>\n",
       "      <th></th>\n",
       "      <th></th>\n",
       "      <th></th>\n",
       "      <th></th>\n",
       "      <th></th>\n",
       "    </tr>\n",
       "  </thead>\n",
       "  <tbody>\n",
       "    <tr>\n",
       "      <th>[u'Tim Robbins', u'Morgan Freeman', u'Bob Gunton']</th>\n",
       "      <td>9.3</td>\n",
       "      <td>The Shawshank Redemption</td>\n",
       "      <td>R</td>\n",
       "      <td>Crime</td>\n",
       "      <td>142</td>\n",
       "    </tr>\n",
       "    <tr>\n",
       "      <th>[u'Marlon Brando', u'Al Pacino', u'James Caan']</th>\n",
       "      <td>9.2</td>\n",
       "      <td>The Godfather</td>\n",
       "      <td>R</td>\n",
       "      <td>Crime</td>\n",
       "      <td>175</td>\n",
       "    </tr>\n",
       "    <tr>\n",
       "      <th>[u'Al Pacino', u'Robert De Niro', u'Robert Duvall']</th>\n",
       "      <td>9.1</td>\n",
       "      <td>The Godfather: Part II</td>\n",
       "      <td>R</td>\n",
       "      <td>Crime</td>\n",
       "      <td>200</td>\n",
       "    </tr>\n",
       "    <tr>\n",
       "      <th>[u'Christian Bale', u'Heath Ledger', u'Aaron Eckhart']</th>\n",
       "      <td>9.0</td>\n",
       "      <td>The Dark Knight</td>\n",
       "      <td>PG-13</td>\n",
       "      <td>Action</td>\n",
       "      <td>152</td>\n",
       "    </tr>\n",
       "    <tr>\n",
       "      <th>[u'John Travolta', u'Uma Thurman', u'Samuel L. Jackson']</th>\n",
       "      <td>8.9</td>\n",
       "      <td>Pulp Fiction</td>\n",
       "      <td>R</td>\n",
       "      <td>Crime</td>\n",
       "      <td>154</td>\n",
       "    </tr>\n",
       "    <tr>\n",
       "      <th>[u'Henry Fonda', u'Lee J. Cobb', u'Martin Balsam']</th>\n",
       "      <td>8.9</td>\n",
       "      <td>12 Angry Men</td>\n",
       "      <td>UNRATED</td>\n",
       "      <td>Drama</td>\n",
       "      <td>96</td>\n",
       "    </tr>\n",
       "    <tr>\n",
       "      <th>[u'Clint Eastwood', u'Eli Wallach', u'Lee Van Cleef']</th>\n",
       "      <td>8.9</td>\n",
       "      <td>The Good, the Bad and the Ugly</td>\n",
       "      <td>UNRATED</td>\n",
       "      <td>Western</td>\n",
       "      <td>161</td>\n",
       "    </tr>\n",
       "    <tr>\n",
       "      <th>[u'Elijah Wood', u'Viggo Mortensen', u'Ian McKellen']</th>\n",
       "      <td>8.9</td>\n",
       "      <td>The Lord of the Rings: The Return of the King</td>\n",
       "      <td>PG-13</td>\n",
       "      <td>Adventure</td>\n",
       "      <td>201</td>\n",
       "    </tr>\n",
       "    <tr>\n",
       "      <th>[u'Liam Neeson', u'Ralph Fiennes', u'Ben Kingsley']</th>\n",
       "      <td>8.9</td>\n",
       "      <td>Schindler's List</td>\n",
       "      <td>R</td>\n",
       "      <td>Biography</td>\n",
       "      <td>195</td>\n",
       "    </tr>\n",
       "    <tr>\n",
       "      <th>[u'Brad Pitt', u'Edward Norton', u'Helena Bonham Carter']</th>\n",
       "      <td>8.9</td>\n",
       "      <td>Fight Club</td>\n",
       "      <td>R</td>\n",
       "      <td>Drama</td>\n",
       "      <td>139</td>\n",
       "    </tr>\n",
       "  </tbody>\n",
       "</table>\n",
       "</div>"
      ],
      "text/plain": [
       "                                                    star_rating  \\\n",
       "actors_list                                                       \n",
       "[u'Tim Robbins', u'Morgan Freeman', u'Bob Gunton']          9.3   \n",
       "[u'Marlon Brando', u'Al Pacino', u'James Caan']             9.2   \n",
       "[u'Al Pacino', u'Robert De Niro', u'Robert Duva...          9.1   \n",
       "[u'Christian Bale', u'Heath Ledger', u'Aaron Ec...          9.0   \n",
       "[u'John Travolta', u'Uma Thurman', u'Samuel L. ...          8.9   \n",
       "[u'Henry Fonda', u'Lee J. Cobb', u'Martin Balsam']          8.9   \n",
       "[u'Clint Eastwood', u'Eli Wallach', u'Lee Van C...          8.9   \n",
       "[u'Elijah Wood', u'Viggo Mortensen', u'Ian McKe...          8.9   \n",
       "[u'Liam Neeson', u'Ralph Fiennes', u'Ben Kingsl...          8.9   \n",
       "[u'Brad Pitt', u'Edward Norton', u'Helena Bonha...          8.9   \n",
       "\n",
       "                                                                                            title  \\\n",
       "actors_list                                                                                         \n",
       "[u'Tim Robbins', u'Morgan Freeman', u'Bob Gunton']                       The Shawshank Redemption   \n",
       "[u'Marlon Brando', u'Al Pacino', u'James Caan']                                     The Godfather   \n",
       "[u'Al Pacino', u'Robert De Niro', u'Robert Duva...                         The Godfather: Part II   \n",
       "[u'Christian Bale', u'Heath Ledger', u'Aaron Ec...                                The Dark Knight   \n",
       "[u'John Travolta', u'Uma Thurman', u'Samuel L. ...                                   Pulp Fiction   \n",
       "[u'Henry Fonda', u'Lee J. Cobb', u'Martin Balsam']                                   12 Angry Men   \n",
       "[u'Clint Eastwood', u'Eli Wallach', u'Lee Van C...                 The Good, the Bad and the Ugly   \n",
       "[u'Elijah Wood', u'Viggo Mortensen', u'Ian McKe...  The Lord of the Rings: The Return of the King   \n",
       "[u'Liam Neeson', u'Ralph Fiennes', u'Ben Kingsl...                               Schindler's List   \n",
       "[u'Brad Pitt', u'Edward Norton', u'Helena Bonha...                                     Fight Club   \n",
       "\n",
       "                                                   content_rating      genre  \\\n",
       "actors_list                                                                    \n",
       "[u'Tim Robbins', u'Morgan Freeman', u'Bob Gunton']              R      Crime   \n",
       "[u'Marlon Brando', u'Al Pacino', u'James Caan']                 R      Crime   \n",
       "[u'Al Pacino', u'Robert De Niro', u'Robert Duva...              R      Crime   \n",
       "[u'Christian Bale', u'Heath Ledger', u'Aaron Ec...          PG-13     Action   \n",
       "[u'John Travolta', u'Uma Thurman', u'Samuel L. ...              R      Crime   \n",
       "[u'Henry Fonda', u'Lee J. Cobb', u'Martin Balsam']        UNRATED      Drama   \n",
       "[u'Clint Eastwood', u'Eli Wallach', u'Lee Van C...        UNRATED    Western   \n",
       "[u'Elijah Wood', u'Viggo Mortensen', u'Ian McKe...          PG-13  Adventure   \n",
       "[u'Liam Neeson', u'Ralph Fiennes', u'Ben Kingsl...              R  Biography   \n",
       "[u'Brad Pitt', u'Edward Norton', u'Helena Bonha...              R      Drama   \n",
       "\n",
       "                                                    duration  \n",
       "actors_list                                                   \n",
       "[u'Tim Robbins', u'Morgan Freeman', u'Bob Gunton']       142  \n",
       "[u'Marlon Brando', u'Al Pacino', u'James Caan']          175  \n",
       "[u'Al Pacino', u'Robert De Niro', u'Robert Duva...       200  \n",
       "[u'Christian Bale', u'Heath Ledger', u'Aaron Ec...       152  \n",
       "[u'John Travolta', u'Uma Thurman', u'Samuel L. ...       154  \n",
       "[u'Henry Fonda', u'Lee J. Cobb', u'Martin Balsam']        96  \n",
       "[u'Clint Eastwood', u'Eli Wallach', u'Lee Van C...       161  \n",
       "[u'Elijah Wood', u'Viggo Mortensen', u'Ian McKe...       201  \n",
       "[u'Liam Neeson', u'Ralph Fiennes', u'Ben Kingsl...       195  \n",
       "[u'Brad Pitt', u'Edward Norton', u'Helena Bonha...       139  "
      ]
     },
     "execution_count": 287,
     "metadata": {},
     "output_type": "execute_result"
    }
   ],
   "source": [
    "actors.head(10)"
   ]
  },
  {
   "cell_type": "code",
   "execution_count": 286,
   "metadata": {},
   "outputs": [
    {
     "data": {
      "text/html": [
       "<div>\n",
       "<style scoped>\n",
       "    .dataframe tbody tr th:only-of-type {\n",
       "        vertical-align: middle;\n",
       "    }\n",
       "\n",
       "    .dataframe tbody tr th {\n",
       "        vertical-align: top;\n",
       "    }\n",
       "\n",
       "    .dataframe thead th {\n",
       "        text-align: right;\n",
       "    }\n",
       "</style>\n",
       "<table border=\"1\" class=\"dataframe\">\n",
       "  <thead>\n",
       "    <tr style=\"text-align: right;\">\n",
       "      <th></th>\n",
       "      <th>star_rating</th>\n",
       "      <th>title</th>\n",
       "      <th>content_rating</th>\n",
       "      <th>genre</th>\n",
       "      <th>duration</th>\n",
       "    </tr>\n",
       "    <tr>\n",
       "      <th>actors_list</th>\n",
       "      <th></th>\n",
       "      <th></th>\n",
       "      <th></th>\n",
       "      <th></th>\n",
       "      <th></th>\n",
       "    </tr>\n",
       "  </thead>\n",
       "  <tbody>\n",
       "    <tr>\n",
       "      <th>[u'Jack Nicholson', u'Morgan Freeman', u'Sean Hayes']</th>\n",
       "      <td>7.4</td>\n",
       "      <td>The Bucket List</td>\n",
       "      <td>PG-13</td>\n",
       "      <td>Adventure</td>\n",
       "      <td>97</td>\n",
       "    </tr>\n",
       "    <tr>\n",
       "      <th>[u'Shirley MacLaine', u'Debra Winger', u'Jack Nicholson']</th>\n",
       "      <td>7.4</td>\n",
       "      <td>Terms of Endearment</td>\n",
       "      <td>R</td>\n",
       "      <td>Comedy</td>\n",
       "      <td>132</td>\n",
       "    </tr>\n",
       "    <tr>\n",
       "      <th>[u'Michael Shannon', u'Jessica Chastain', u'Shea Whigham']</th>\n",
       "      <td>7.4</td>\n",
       "      <td>Take Shelter</td>\n",
       "      <td>R</td>\n",
       "      <td>Drama</td>\n",
       "      <td>120</td>\n",
       "    </tr>\n",
       "    <tr>\n",
       "      <th>[u'Julianne Moore', u'Dennis Quaid', u'Dennis Haysbert']</th>\n",
       "      <td>7.4</td>\n",
       "      <td>Far from Heaven</td>\n",
       "      <td>PG-13</td>\n",
       "      <td>Drama</td>\n",
       "      <td>107</td>\n",
       "    </tr>\n",
       "    <tr>\n",
       "      <th>[u'Jack Nance', u'Charlotte Stewart', u'Allen Joseph']</th>\n",
       "      <td>7.4</td>\n",
       "      <td>Eraserhead</td>\n",
       "      <td>UNRATED</td>\n",
       "      <td>Drama</td>\n",
       "      <td>89</td>\n",
       "    </tr>\n",
       "    <tr>\n",
       "      <th>[u'Greta Gerwig', u'Mickey Sumner', u'Adam Driver']</th>\n",
       "      <td>7.4</td>\n",
       "      <td>Frances Ha</td>\n",
       "      <td>R</td>\n",
       "      <td>Comedy</td>\n",
       "      <td>86</td>\n",
       "    </tr>\n",
       "    <tr>\n",
       "      <th>[u'Macaulay Culkin', u'Joe Pesci', u'Daniel Stern']</th>\n",
       "      <td>7.4</td>\n",
       "      <td>Home Alone</td>\n",
       "      <td>PG</td>\n",
       "      <td>Comedy</td>\n",
       "      <td>103</td>\n",
       "    </tr>\n",
       "    <tr>\n",
       "      <th>[u'Jennifer Tilly', u'Gina Gershon', u'Joe Pantoliano']</th>\n",
       "      <td>7.4</td>\n",
       "      <td>Bound</td>\n",
       "      <td>R</td>\n",
       "      <td>Crime</td>\n",
       "      <td>108</td>\n",
       "    </tr>\n",
       "    <tr>\n",
       "      <th>[u'Johnny Depp', u'Christina Ricci', u'Miranda Richardson']</th>\n",
       "      <td>7.4</td>\n",
       "      <td>Sleepy Hollow</td>\n",
       "      <td>R</td>\n",
       "      <td>Drama</td>\n",
       "      <td>105</td>\n",
       "    </tr>\n",
       "    <tr>\n",
       "      <th>[u'Charlie Sheen', u'Michael Douglas', u'Tamara Tunie']</th>\n",
       "      <td>7.4</td>\n",
       "      <td>Wall Street</td>\n",
       "      <td>R</td>\n",
       "      <td>Crime</td>\n",
       "      <td>126</td>\n",
       "    </tr>\n",
       "  </tbody>\n",
       "</table>\n",
       "</div>"
      ],
      "text/plain": [
       "                                                    star_rating  \\\n",
       "actors_list                                                       \n",
       "[u'Jack Nicholson', u'Morgan Freeman', u'Sean H...          7.4   \n",
       "[u'Shirley MacLaine', u'Debra Winger', u'Jack N...          7.4   \n",
       "[u'Michael Shannon', u'Jessica Chastain', u'She...          7.4   \n",
       "[u'Julianne Moore', u'Dennis Quaid', u'Dennis H...          7.4   \n",
       "[u'Jack Nance', u'Charlotte Stewart', u'Allen J...          7.4   \n",
       "[u'Greta Gerwig', u'Mickey Sumner', u'Adam Driv...          7.4   \n",
       "[u'Macaulay Culkin', u'Joe Pesci', u'Daniel Ste...          7.4   \n",
       "[u'Jennifer Tilly', u'Gina Gershon', u'Joe Pant...          7.4   \n",
       "[u'Johnny Depp', u'Christina Ricci', u'Miranda ...          7.4   \n",
       "[u'Charlie Sheen', u'Michael Douglas', u'Tamara...          7.4   \n",
       "\n",
       "                                                                  title  \\\n",
       "actors_list                                                               \n",
       "[u'Jack Nicholson', u'Morgan Freeman', u'Sean H...      The Bucket List   \n",
       "[u'Shirley MacLaine', u'Debra Winger', u'Jack N...  Terms of Endearment   \n",
       "[u'Michael Shannon', u'Jessica Chastain', u'She...         Take Shelter   \n",
       "[u'Julianne Moore', u'Dennis Quaid', u'Dennis H...      Far from Heaven   \n",
       "[u'Jack Nance', u'Charlotte Stewart', u'Allen J...           Eraserhead   \n",
       "[u'Greta Gerwig', u'Mickey Sumner', u'Adam Driv...           Frances Ha   \n",
       "[u'Macaulay Culkin', u'Joe Pesci', u'Daniel Ste...           Home Alone   \n",
       "[u'Jennifer Tilly', u'Gina Gershon', u'Joe Pant...                Bound   \n",
       "[u'Johnny Depp', u'Christina Ricci', u'Miranda ...        Sleepy Hollow   \n",
       "[u'Charlie Sheen', u'Michael Douglas', u'Tamara...          Wall Street   \n",
       "\n",
       "                                                   content_rating      genre  \\\n",
       "actors_list                                                                    \n",
       "[u'Jack Nicholson', u'Morgan Freeman', u'Sean H...          PG-13  Adventure   \n",
       "[u'Shirley MacLaine', u'Debra Winger', u'Jack N...              R     Comedy   \n",
       "[u'Michael Shannon', u'Jessica Chastain', u'She...              R      Drama   \n",
       "[u'Julianne Moore', u'Dennis Quaid', u'Dennis H...          PG-13      Drama   \n",
       "[u'Jack Nance', u'Charlotte Stewart', u'Allen J...        UNRATED      Drama   \n",
       "[u'Greta Gerwig', u'Mickey Sumner', u'Adam Driv...              R     Comedy   \n",
       "[u'Macaulay Culkin', u'Joe Pesci', u'Daniel Ste...             PG     Comedy   \n",
       "[u'Jennifer Tilly', u'Gina Gershon', u'Joe Pant...              R      Crime   \n",
       "[u'Johnny Depp', u'Christina Ricci', u'Miranda ...              R      Drama   \n",
       "[u'Charlie Sheen', u'Michael Douglas', u'Tamara...              R      Crime   \n",
       "\n",
       "                                                    duration  \n",
       "actors_list                                                   \n",
       "[u'Jack Nicholson', u'Morgan Freeman', u'Sean H...        97  \n",
       "[u'Shirley MacLaine', u'Debra Winger', u'Jack N...       132  \n",
       "[u'Michael Shannon', u'Jessica Chastain', u'She...       120  \n",
       "[u'Julianne Moore', u'Dennis Quaid', u'Dennis H...       107  \n",
       "[u'Jack Nance', u'Charlotte Stewart', u'Allen J...        89  \n",
       "[u'Greta Gerwig', u'Mickey Sumner', u'Adam Driv...        86  \n",
       "[u'Macaulay Culkin', u'Joe Pesci', u'Daniel Ste...       103  \n",
       "[u'Jennifer Tilly', u'Gina Gershon', u'Joe Pant...       108  \n",
       "[u'Johnny Depp', u'Christina Ricci', u'Miranda ...       105  \n",
       "[u'Charlie Sheen', u'Michael Douglas', u'Tamara...       126  "
      ]
     },
     "execution_count": 286,
     "metadata": {},
     "output_type": "execute_result"
    }
   ],
   "source": [
    "actors.tail(10)"
   ]
  },
  {
   "cell_type": "code",
   "execution_count": null,
   "metadata": {},
   "outputs": [],
   "source": []
  },
  {
   "cell_type": "code",
   "execution_count": null,
   "metadata": {},
   "outputs": [],
   "source": []
  }
 ],
 "metadata": {
  "kernelspec": {
   "display_name": "Python 3",
   "language": "python",
   "name": "python3"
  },
  "language_info": {
   "codemirror_mode": {
    "name": "ipython",
    "version": 3
   },
   "file_extension": ".py",
   "mimetype": "text/x-python",
   "name": "python",
   "nbconvert_exporter": "python",
   "pygments_lexer": "ipython3",
   "version": "3.6.8"
  }
 },
 "nbformat": 4,
 "nbformat_minor": 2
}
